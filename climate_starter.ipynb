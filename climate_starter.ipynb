{
 "cells": [
  {
   "cell_type": "code",
   "execution_count": null,
   "metadata": {},
   "outputs": [],
   "source": [
    "%matplotlib inline\n",
    "from matplotlib import style\n",
    "style.use('fivethirtyeight')\n",
    "import matplotlib.pyplot as plt"
   ]
  },
  {
   "cell_type": "code",
   "execution_count": null,
   "metadata": {},
   "outputs": [],
   "source": [
    "import numpy as np\n",
    "import pandas as pd"
   ]
  },
  {
   "cell_type": "code",
   "execution_count": null,
   "metadata": {},
   "outputs": [],
   "source": [
    "import datetime as dt"
   ]
  },
  {
   "cell_type": "markdown",
   "metadata": {},
   "source": [
    "# Reflect Tables into SQLAlchemy ORM"
   ]
  },
  {
   "cell_type": "code",
   "execution_count": null,
   "metadata": {},
   "outputs": [],
   "source": [
    "# Python SQL toolkit and Object Relational Mapper\n",
    "import sqlalchemy\n",
    "from sqlalchemy.ext.automap import automap_base\n",
    "from sqlalchemy.orm import Session\n",
    "from sqlalchemy import create_engine, func"
   ]
  },
  {
   "cell_type": "code",
   "execution_count": null,
   "metadata": {},
   "outputs": [],
   "source": [
    "engine = create_engine(\"sqlite:///Resources/hawaii.sqlite\")"
   ]
  },
  {
   "cell_type": "code",
   "execution_count": null,
   "metadata": {},
   "outputs": [],
   "source": [
    "# reflect an existing database into a new model\n",
    "Base = automap_base()\n",
    "\n",
    "# reflect the tables\n",
    "Base.prepare(engine, reflect=True)"
   ]
  },
  {
   "cell_type": "code",
   "execution_count": null,
   "metadata": {},
   "outputs": [],
   "source": [
    "# We can view all of the classes that automap found\n",
    "Base.classes.keys()"
   ]
  },
  {
   "cell_type": "code",
   "execution_count": null,
   "metadata": {},
   "outputs": [],
   "source": [
    "# Save references to each table\n",
    "Measurements = Base.classes.measurement\n",
    "Station = Base.classes.station\n"
   ]
  },
  {
   "cell_type": "code",
   "execution_count": null,
   "metadata": {},
   "outputs": [],
   "source": [
    "Measurements.__table__.columns.values()"
   ]
  },
  {
   "cell_type": "code",
   "execution_count": null,
   "metadata": {},
   "outputs": [],
   "source": [
    "Station.__table__.columns.values()"
   ]
  },
  {
   "cell_type": "code",
   "execution_count": null,
   "metadata": {},
   "outputs": [],
   "source": [
    "# Create our session (link) from Python to the DB\n",
    "session = Session(engine)"
   ]
  },
  {
   "cell_type": "markdown",
   "metadata": {},
   "source": [
    "# Exploratory Climate Analysis"
   ]
  },
  {
   "cell_type": "code",
   "execution_count": null,
   "metadata": {},
   "outputs": [],
   "source": [
    "connection = engine.connect()\n",
    "climateAnalysis = pd.read_sql('Select * from Measurements', connection, parse_dates=['date'])\n",
    "climateAnalysis.head()"
   ]
  },
  {
   "cell_type": "code",
   "execution_count": null,
   "metadata": {},
   "outputs": [],
   "source": [
    "# Design a query to retrieve the last 12 months of precipitation data and plot the results\n",
    "\n",
    "# Calculate the date 1 year ago from the last data point in the database\n",
    "dateRange = session.query(Measurements.date)\n",
    "dateRange_df = pd.DataFrame(dateRange)\n",
    "dateRange_df.max()\n",
    "\n",
    "# Perform a query to retrieve the data and precipitation scores\n",
    "Rain_12months = session.query(Measurements.date, Measurements.prcp).filter(and_(Measurements.date>='2016-08-23', Measurements.date <= '2017-08-23'))\n",
    "\n",
    "# Save the query results as a Pandas DataFrame and set the index to the date column\n",
    "Rain_12months_df = pd.DataFrame(Rain_12months)\n",
    "Rain_12months_df.head()\n",
    "\n",
    "# Sort the dataframe by date\n",
    "Rain_12months_df = Rain_12months_df.sort_values(by='date', ascending=False)\n",
    "Rain_12months_df.groupby('date').sum()\n",
    "# Rain_12months_df.set_index('date', inplace=True)\n",
    "Rain_12months_df.head()\n",
    "\n",
    "# Use Pandas Plotting with Matplotlib to plot the data\n",
    "# Generate monthly precipitation totals\n",
    "PrcpTotal = []\n",
    "Monthly_df = Rain_12months_df[(Rain_12months_df.date>='2016-08-23') & (Rain_12months_df.date<='2016-09-23')]\n",
    "PrcpTotal.append(Monthly_df['prcp'].sum())\n",
    "Monthly_df = Rain_12months_df[(Rain_12months_df.date>='2016-09-24') & (Rain_12months_df.date<='2016-10-23')]\n",
    "PrcpTotal.append(Monthly_df['prcp'].sum())\n",
    "Monthly_df = Rain_12months_df[(Rain_12months_df.date>='2016-10-24') & (Rain_12months_df.date<='2016-11-23')]\n",
    "PrcpTotal.append(Monthly_df['prcp'].sum())\n",
    "Monthly_df = Rain_12months_df[(Rain_12months_df.date>='2016-11-24') & (Rain_12months_df.date<='2016-12-23')]\n",
    "PrcpTotal.append(Monthly_df['prcp'].sum())\n",
    "Monthly_df = Rain_12months_df[(Rain_12months_df.date>='2016-12-24') & (Rain_12months_df.date<='2017-01-23')]\n",
    "PrcpTotal.append(Monthly_df['prcp'].sum())\n",
    "Monthly_df = Rain_12months_df[(Rain_12months_df.date>='2017-01-24') & (Rain_12months_df.date<='2017-02-23')]\n",
    "PrcpTotal.append(Monthly_df['prcp'].sum())\n",
    "Monthly_df = Rain_12months_df[(Rain_12months_df.date>='2017-02-24') & (Rain_12months_df.date<='2017-03-23')]\n",
    "PrcpTotal.append(Monthly_df['prcp'].sum())\n",
    "Monthly_df = Rain_12months_df[(Rain_12months_df.date>='2017-03-24') & (Rain_12months_df.date<='2017-04-23')]\n",
    "PrcpTotal.append(Monthly_df['prcp'].sum())\n",
    "Monthly_df = Rain_12months_df[(Rain_12months_df.date>='2017-04-24') & (Rain_12months_df.date<='2017-05-23')]\n",
    "PrcpTotal.append(Monthly_df['prcp'].sum())\n",
    "Monthly_df = Rain_12months_df[(Rain_12months_df.date>='2017-05-24') & (Rain_12months_df.date<='2017-06-23')]\n",
    "PrcpTotal.append(Monthly_df['prcp'].sum())\n",
    "Monthly_df = Rain_12months_df[(Rain_12months_df.date>='2017-06-24') & (Rain_12months_df.date<='2017-07-23')]\n",
    "PrcpTotal.append(Monthly_df['prcp'].sum())\n",
    "Monthly_df = Rain_12months_df[(Rain_12months_df.date>='2017-07-24') & (Rain_12months_df.date<='2017-08-23')]\n",
    "PrcpTotal.append(Monthly_df['prcp'].sum())\n",
    "PrcpTotal\n",
    "# Monthly_df.head()\n",
    "\n",
    "# Make the tile list\n",
    "Title_List = ('Sep_2016', 'Oct_2016', 'Nov_2016', 'Dec_2016', 'Jan_2017', 'Feb_2017', 'Mar_2017', 'Apr_2017', 'May_2017', 'Jun_2017', 'Jul_2017', 'Aug_2017')\n",
    "TitleNo = np.array(range(len(Title_List)))\n",
    "\n",
    "# Create a dataframe from calculate values\n",
    "Precipitation_dict = {\"Months\": Title_List, \"Precipitation\": PrcpTotal}\n",
    "Precipitation_df = pd.DataFrame(Precipitation_dict)\n",
    "Precipitation_df\n",
    "\n",
    "# Create Plot (pandasplot)\n",
    "Precipitation_df.plot(kind=\"bar\", figsize=(15,5))\n",
    "plt.title(\"Monthly precipitation Totals Aug 23rd 2016 to Aug 23rd 2017\")\n",
    "plt.xticks(TitleNo, Title_List, rotation = 60)\n",
    "plt.ylabel('Precipitation')\n",
    "plt.xlabel('Months')\n",
    "plt.grid(axis=\"x\")\n",
    "plt.tight_layout()\n",
    "plt.show()\n",
    "\n",
    "# ---------------------------------------------------------------------------------------------------------------------------------------------------------------------\n",
    "\n",
    "# # Make the tile list\n",
    "# Rain_List = Rain_12months_df.prcp.tolist()\n",
    "# len(Rain_List)\n",
    "# Date_List = Rain_12months_df.date.tolist()\n",
    "# len(Date_List)\n",
    "# TitleNo = np.array(range(len(Date_List)))\n",
    "\n",
    "# # Create a dataframe from calculate values\n",
    "# Precipitation_dict = {\"Months\": Date_List, \"Precipitation\": Rain_List}\n",
    "# Precipitation_df = pd.DataFrame(Precipitation_dict)\n",
    "# Precipitation_df\n",
    "\n",
    "# # Create Plot (pandasplot)\n",
    "# Precipitation_df.plot(kind=\"bar\", figsize=(15,5))\n",
    "# plt.title(\"Daily precipitation Totals Aug 23rd 2016 to Aug 23rd 2017\")\n",
    "# plt.xticks(TitleNo, Title_List, rotation = 60)\n",
    "# plt.ylabel('Precipitation')\n",
    "# plt.xlabel('Days')\n",
    "# plt.grid(axis=\"x\")\n",
    "# plt.tight_layout()\n",
    "# plt.show()"
   ]
  },
  {
   "cell_type": "code",
   "execution_count": null,
   "metadata": {},
   "outputs": [],
   "source": [
    "# # Use Pandas to calcualte the summary statistics for the precipitation data\n",
    "# # Generate a summary statistics table of mean, median, variance, standard deviation, and SEM of the tumor volume for each regimen\n",
    "\n",
    "\n",
    "Precip_data = session.query(Measurements.date, Measurements.prcp)\n",
    "Precip_data_df = pd.DataFrame(Precip_data)\n",
    "Precip_data_df.head()\n",
    "\n",
    "# Create lists and dicts needed\n",
    "Precip_Dict = {}\n",
    "Precip_Mean_Dict = {}\n",
    "Precip_Median_Dict = {}\n",
    "Precip_Mode_Dict = {}\n",
    "Precip_Var_Dict = {}\n",
    "Precip_Std_Dict = {}\n",
    "Precip_SEM_Dict = {}\n",
    "\n",
    "Precip_Mean_Dict = Precip_data_df['prcp'].mean()\n",
    "Precip_Median_Dict = Precip_data_df['prcp'].median()\n",
    "Precip_Mode_Dict = Precip_data_df['prcp'].mode()\n",
    "Precip_Var_Dict = Precip_data_df['prcp'].var()\n",
    "Precip_Std_Dict = Precip_data_df['prcp'].std()\n",
    "Precip_SEM_Dict = Precip_data_df['prcp'].sem()\n",
    "    \n",
    "# # Create and display a summary stats dataframe from calculate values\n",
    "summary_stats_dict= {\"MEAN\": Precip_Mean_Dict, \"MEDIAN\": Precip_Median_Dict, \"VARIANCE\": Precip_Var_Dict, \n",
    "                     \"STANDARD DEVIATION\": Precip_Std_Dict, \"SEM\": Precip_SEM_Dict}\n",
    "\n",
    "summary_stats_dict\n",
    "# summary_stats_df = pd.DataFrame(summary_stats_dict)\n",
    "# summary_stats_df\n"
   ]
  },
  {
   "cell_type": "code",
   "execution_count": null,
   "metadata": {},
   "outputs": [],
   "source": [
    "# Design a query to show how many stations are available in this dataset?\n",
    "StationNos = pd.read_sql('SELECT station FROM Station', connection)\n",
    "StationNos.count()\n",
    "\n",
    "\n",
    "# Design a query to show how many stations are available in this dataset?\n",
    "# StationNos = session.query(Station.station)\n",
    "# StationNos_df = pd.DataFrame(StationNos)\n",
    "# StationNos_df.count()"
   ]
  },
  {
   "cell_type": "code",
   "execution_count": null,
   "metadata": {},
   "outputs": [],
   "source": [
    "# What are the most active stations? (i.e. what stations have the most rows)?\n",
    "# List the stations and the counts in descending order.\n",
    "connection = engine.connect()\n",
    "Active_Stations = pd.read_sql('SELECT station, COUNT(station) AS station_count FROM Measurement GROUP BY station ORDER BY station_count DESC', connection)\n",
    "# Active_Stations_df = pd.DataFrame(Active_Stations)\n",
    "# Active_Stations_df.head(20)\n",
    "Active_Stations\n"
   ]
  },
  {
   "cell_type": "code",
   "execution_count": null,
   "metadata": {},
   "outputs": [],
   "source": [
    "# Using the station id from the previous query, calculate the lowest temperature recorded\n",
    "# highest temperature recorded, and average temperature of the most active station?\n",
    "MinTemp = pd.read_sql('SELECT MIN(tobs) AS Min_Temperature FROM Measurement WHERE station = \"USC00519281\"', connection)\n",
    "MaxTemp = pd.read_sql('SELECT MAX(tobs) AS Max_Temperature FROM Measurement WHERE station = \"USC00519281\"', connection)\n",
    "AvgTemp = pd.read_sql('SELECT AVG(tobs) AS Avg_Temperature FROM Measurement WHERE station = \"USC00519281\"', connection)\n",
    "# TempList = [MinTemp, MaxTemp, AvgTemp]\n",
    "TempList = pd.read_sql('SELECT MIN(tobs) AS Min_Temperature FROM Measurement WHERE station = \"USC00519281\"', connection)\n",
    "TempList['MaxTemp'] = pd.read_sql('SELECT MAX(tobs) AS Max_Temperature FROM Measurement WHERE station = \"USC00519281\"', connection)\n",
    "TempList['AvgTemp'] = pd.read_sql('SELECT AVG(tobs) AS Avg_Temperature FROM Measurement WHERE station = \"USC00519281\"', connection)\n",
    "TempList\n",
    "\n",
    "\n",
    "# # # Create a summary data frame opt1\n",
    "# # Temps_df = pd.DataFrame(TempList, columns=[\"Min Temp\", \"Max Temp\", \"Avg Temp\"])\n",
    "# # Temps_df\n",
    "\n",
    "# # Create a summary data frame opt2\n",
    "# Temp_stats_dict= {\"Min Temp\": MinTemp, \"Max Temp\": MaxTemp, \"Avg Temp\": AvgTemp}\n",
    "# Temp_stats_df = pd.DataFrame(Temp_stats_dict, index=pd.Index(MaxTemp))\n",
    "# Temp_stats_df\n",
    "\n"
   ]
  },
  {
   "cell_type": "code",
   "execution_count": null,
   "metadata": {},
   "outputs": [],
   "source": [
    "# Choose the station with the highest number of temperature observations.\n",
    "TempRange=[]\n",
    "TempRange.append(pd.read_sql('SELECT Min(tobs), Max(tobs) FROM Measurement', connection))\n",
    "TempRange\n",
    "mostTemps_station = pd.read_sql('SELECT station, COUNT(tobs) AS Temp_Obs_count FROM Measurement WHERE tobs>= 50 AND tobs<= 90 GROUP BY station ORDER BY Temp_Obs_count DESC', connection)\n",
    "mostTemps_station\n",
    "\n",
    "# Query the last 12 months of temperature observation data for this station and plot the results as a histogram\n",
    "# Calculate the date 1 year ago from the last data point in the database\n",
    "TempRange=[]\n",
    "TempRange.append(pd.read_sql('SELECT Min(date), Max(date) FROM Measurement', connection))\n",
    "TempRange\n",
    "\n",
    "# # Perform a query to retrieve the temperature data from specific station\n",
    "Temp_12months = pd.read_sql(\"SELECT date, tobs FROM Measurement WHERE station='USC00519281' AND date>= '2016-08-23' AND date<= '2017-08-23'\", connection, parse_dates=['date'])\n",
    "Temp_12months.head()\n",
    "Temp_12months.count()\n",
    "\n",
    "# # Perform a query to retrieve the temperature data from specific station\n",
    "# Temp_12months = session.query(Measurements.date, Measurements.tobs).filter(and_(Measurements.station='USC00519281', Measurements.date>='2016-08-23', Measurements.date <= '2017-08-23'))\n",
    "# # Save the query results as a Pandas DataFrame and set the index to the date column\n",
    "# Temp_12months_df = pd.DataFrame(Temp_12months)\n",
    "# Temp_12months_df.tail(50)\n",
    "# Temp_12months_df.count()\n",
    "\n",
    "# # Make the tile list\n",
    "Temps_List = Temp_12months.tobs.tolist()\n",
    "len(Temps_List)\n",
    "Date_List = Temp_12months.date.tolist()\n",
    "len(Date_List)\n",
    "# # TitleNo = np.array(range(len(Date_List)))\n",
    "# Title_List = np.arange(1, 366, 1)\n",
    "# len(Title_List)\n",
    "# # TitleNo = np.array(range(len(Title_List)))\n",
    "\n",
    "# Create a dataframe from calculate values\n",
    "Temperature_dict = {\"Days\": Date_List, \"Temperature\": Temps_List}\n",
    "Temperature_df = pd.DataFrame(Temperature_dict)\n",
    "Temperature_df.dtypes\n",
    "\n",
    "# # Create Plot (pandasplot)\n",
    "Temperature_df.plot(kind=\"bar\", figsize=(15,5))\n",
    "plt.title(\"Daily Temperature Totals Aug 23rd 2016 to Aug 23rd 2017\")\n",
    "plt.xticks(TitleNo, Title_List, rotation = 60)\n",
    "plt.ylabel('Temperature')\n",
    "plt.xlabel('Days')\n",
    "plt.grid(axis=\"x\")\n",
    "plt.tight_layout()\n",
    "plt.show()\n"
   ]
  },
  {
   "cell_type": "markdown",
   "metadata": {},
   "source": [
    "## Bonus Challenge Assignment"
   ]
  },
  {
   "cell_type": "code",
   "execution_count": 276,
   "metadata": {},
   "outputs": [
    {
     "name": "stdout",
     "output_type": "stream",
     "text": [
      "[(62.0, 69.57142857142857, 74.0)]\n"
     ]
    }
   ],
   "source": [
    "# This function called `calc_temps` will accept start date and end date in the format '%Y-%m-%d' \n",
    "# and return the minimum, average, and maximum temperatures for that range of dates\n",
    "def calc_temps(start_date, end_date):\n",
    "    \"\"\"TMIN, TAVG, and TMAX for a list of dates.\n",
    "    \n",
    "    Args:\n",
    "        start_date (string): A date string in the format %Y-%m-%d\n",
    "        end_date (string): A date string in the format %Y-%m-%d\n",
    "        \n",
    "    Returns:\n",
    "        TMIN, TAVE, and TMAX\n",
    "    \"\"\"\n",
    "    \n",
    "    return session.query(func.min(Measurements.tobs), func.avg(Measurements.tobs), func.max(Measurements.tobs)).\\\n",
    "        filter(Measurements.date >= start_date).filter(Measurements.date <= end_date).all()\n",
    "\n",
    "# function usage example\n",
    "print(calc_temps('2012-02-28', '2012-03-05'))"
   ]
  },
  {
   "cell_type": "code",
   "execution_count": 277,
   "metadata": {},
   "outputs": [
    {
     "name": "stdout",
     "output_type": "stream",
     "text": [
      "[(58.0, 74.59058295964125, 87.0)]\n"
     ]
    }
   ],
   "source": [
    "# Use your previous function `calc_temps` to calculate the tmin, tavg, and tmax\n",
    "print(calc_temps('2016-08-23', '2017-08-23'))\n",
    "# for your trip using the previous year's data for those same dates.\n"
   ]
  },
  {
   "cell_type": "code",
   "execution_count": null,
   "metadata": {},
   "outputs": [],
   "source": [
    "# Plot the results from your previous query as a bar chart. \n",
    "# Use \"Trip Avg Temp\" as your Title\n",
    "# Use the average temperature for the y value\n",
    "# Use the peak-to-peak (tmax-tmin) value as the y error bar (yerr)\n"
   ]
  },
  {
   "cell_type": "code",
   "execution_count": null,
   "metadata": {},
   "outputs": [],
   "source": [
    "# Calculate the total amount of rainfall per weather station for your trip dates using the previous year's matching dates.\n",
    "# Sort this in descending order by precipitation amount and list the station, name, latitude, longitude, and elevation\n",
    "\n"
   ]
  },
  {
   "cell_type": "code",
   "execution_count": null,
   "metadata": {},
   "outputs": [],
   "source": [
    "# Create a query that will calculate the daily normals \n",
    "# (i.e. the averages for tmin, tmax, and tavg for all historic data matching a specific month and day)\n",
    "\n",
    "def daily_normals(date):\n",
    "    \"\"\"Daily Normals.\n",
    "    \n",
    "    Args:\n",
    "        date (str): A date string in the format '%m-%d'\n",
    "        \n",
    "    Returns:\n",
    "        A list of tuples containing the daily normals, tmin, tavg, and tmax\n",
    "    \n",
    "    \"\"\"\n",
    "    \n",
    "    sel = [func.min(Measurement.tobs), func.avg(Measurement.tobs), func.max(Measurement.tobs)]\n",
    "    return session.query(*sel).filter(func.strftime(\"%m-%d\", Measurement.date) == date).all()\n",
    "    \n",
    "daily_normals(\"01-01\")"
   ]
  },
  {
   "cell_type": "code",
   "execution_count": null,
   "metadata": {},
   "outputs": [],
   "source": [
    "# calculate the daily normals for your trip\n",
    "# push each tuple of calculations into a list called `normals`\n",
    "\n",
    "# Set the start and end date of the trip\n",
    "\n",
    "# Use the start and end date to create a range of dates\n",
    "\n",
    "# Stip off the year and save a list of %m-%d strings\n",
    "\n",
    "# Loop through the list of %m-%d strings and calculate the normals for each date\n"
   ]
  },
  {
   "cell_type": "code",
   "execution_count": null,
   "metadata": {},
   "outputs": [],
   "source": [
    "# Load the previous query results into a Pandas DataFrame and add the `trip_dates` range as the `date` index\n"
   ]
  },
  {
   "cell_type": "code",
   "execution_count": null,
   "metadata": {},
   "outputs": [],
   "source": [
    "# Plot the daily normals as an area plot with `stacked=False`\n"
   ]
  }
 ],
 "metadata": {
  "kernel_info": {
   "name": "python3"
  },
  "kernelspec": {
   "display_name": "Python 3",
   "language": "python",
   "name": "python3"
  },
  "language_info": {
   "codemirror_mode": {
    "name": "ipython",
    "version": 3
   },
   "file_extension": ".py",
   "mimetype": "text/x-python",
   "name": "python",
   "nbconvert_exporter": "python",
   "pygments_lexer": "ipython3",
   "version": "3.7.4"
  },
  "nteract": {
   "version": "0.12.3"
  },
  "varInspector": {
   "cols": {
    "lenName": 16,
    "lenType": 16,
    "lenVar": 40
   },
   "kernels_config": {
    "python": {
     "delete_cmd_postfix": "",
     "delete_cmd_prefix": "del ",
     "library": "var_list.py",
     "varRefreshCmd": "print(var_dic_list())"
    },
    "r": {
     "delete_cmd_postfix": ") ",
     "delete_cmd_prefix": "rm(",
     "library": "var_list.r",
     "varRefreshCmd": "cat(var_dic_list()) "
    }
   },
   "types_to_exclude": [
    "module",
    "function",
    "builtin_function_or_method",
    "instance",
    "_Feature"
   ],
   "window_display": false
  }
 },
 "nbformat": 4,
 "nbformat_minor": 4
}
